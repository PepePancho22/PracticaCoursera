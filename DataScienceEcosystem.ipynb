{
  "metadata": {
    "kernelspec": {
      "name": "python",
      "display_name": "Python (Pyodide)",
      "language": "python"
    },
    "language_info": {
      "codemirror_mode": {
        "name": "python",
        "version": 3
      },
      "file_extension": ".py",
      "mimetype": "text/x-python",
      "name": "python",
      "nbconvert_exporter": "python",
      "pygments_lexer": "ipython3",
      "version": "3.8"
    }
  },
  "nbformat_minor": 5,
  "nbformat": 4,
  "cells": [
    {
      "id": "2ad8cbad-eae0-4880-b7b6-517db977fe06",
      "cell_type": "markdown",
      "source": "# Data Science Tools and Ecosystem",
      "metadata": {}
    },
    {
      "id": "1aefada9-ec8a-41b8-84a7-4b3510b746ed",
      "cell_type": "markdown",
      "source": "## Autor\nJosé de la Fuente",
      "metadata": {}
    },
    {
      "id": "8474599e-c2c8-4cdf-abf0-6c9e9e3dc0ab",
      "cell_type": "markdown",
      "source": "In this notebook, Data Science Tools and Ecosystem are summarized.",
      "metadata": {}
    },
    {
      "id": "0a821560-1012-4812-9eb1-23c40e92d529",
      "cell_type": "markdown",
      "source": "**Objectives:** in this notebook i'm going to resume everything that i learned so far in this course, such as:\n+ Popular languagues in Data Science\n+ Commonly used libreries used in Data Science\n+ Some Data Science Tools\n+ Arithmetic expressions in Python",
      "metadata": {}
    },
    {
      "id": "f5d25854-f9fc-47fe-b711-7f147bfde238",
      "cell_type": "markdown",
      "source": "Some of the popular languages that Data Scientists use are:\n1. **Python**: Widely used for its versatility, vast libraries (e.g., NumPy, pandas, scikit-learn), and ease of integration with data science workflows.\n2. **R**: Known for statistical analysis and visualization capabilities, with packages like ggplot2 and dplyr.\n3. **SQL**: Essential for querying and managing data in relational databases.\n\nOther languages like Julia, Scala, and Java are also used in specific data science contexts.",
      "metadata": {}
    },
    {
      "id": "ed85fb4c-b0e1-4f0d-ac75-b5306fd3d3dd",
      "cell_type": "markdown",
      "source": "Some of the commonly used libraries used by Data Scientists include:\n\n1. **NumPy**: A fundamental library for numerical computing in Python, providing support for arrays and mathematical operations.\n2. **pandas**: Essential for data manipulation and analysis, offering powerful tools to handle structured data.\n3. **Matplotlib**: A popular library for creating static, interactive, and animated visualizations in Python.\n4. **scikit-learn**: A widely used library for machine learning, providing tools for classification, regression, clustering, and more.\n5. **TensorFlow**: A powerful library for deep learning and building machine learning models.\n",
      "metadata": {}
    },
    {
      "id": "b888e805-53f7-495f-9c8d-4a61fa6ddbc8",
      "cell_type": "markdown",
      "source": "| Data Science Tools        |\n|---------------------------|\n| Jupyter Notebooks         |\n| RStudio                   |\n| Apache Zeppelin           |\n",
      "metadata": {}
    },
    {
      "id": "f53d4e8a-1e78-47a9-97f9-de5989f745f3",
      "cell_type": "markdown",
      "source": "### Below are a few examples of evaluating arithmetic expressions in Python",
      "metadata": {}
    },
    {
      "id": "bd1374d0-597b-4b44-9493-3da76f275363",
      "cell_type": "code",
      "source": "(3*4)+5 ##This a simple arithmetic expression to mutiply then add integers",
      "metadata": {
        "trusted": true
      },
      "outputs": [
        {
          "execution_count": 2,
          "output_type": "execute_result",
          "data": {
            "text/plain": "17"
          },
          "metadata": {}
        }
      ],
      "execution_count": 2
    },
    {
      "id": "baf3d2ac-594d-4dc7-ab6d-3f793bab36d1",
      "cell_type": "code",
      "source": "##This will convert 200 minutes to hours by diving by 60\ndef minutes_to_hours(minutes):\n    return minutes / 60\nminutes=200\nhours=minutes_to_hours(minutes)\nprint(f\"{minutes} minutes are {hours} hours\")",
      "metadata": {
        "trusted": true
      },
      "outputs": [
        {
          "name": "stdout",
          "output_type": "stream",
          "text": "200 minutes are 3.3333333333333335 hours\n"
        }
      ],
      "execution_count": 5
    },
    {
      "id": "59b9afd5-330a-4f99-bbac-23cf4b964cc8",
      "cell_type": "code",
      "source": "",
      "metadata": {
        "trusted": true
      },
      "outputs": [],
      "execution_count": null
    }
  ]
}